{
 "cells": [
  {
   "cell_type": "markdown",
   "id": "b4e395f0-505d-4296-bfce-1599ff172f7b",
   "metadata": {},
   "source": [
    "# Exp no:5"
   ]
  },
  {
   "cell_type": "markdown",
   "id": "41bc4004-cb93-4faf-8b5d-3a448880f5f4",
   "metadata": {},
   "source": [
    "# Aim:To perform and analysis of T Test parametric Test"
   ]
  },
  {
   "cell_type": "code",
   "execution_count": 3,
   "id": "da33ee60",
   "metadata": {},
   "outputs": [],
   "source": [
    "#Name: Khushi Ajay Magarde\n",
    "#Roll No.: 14\n",
    "#Sec: 3B\n",
    "#Subject:ET - 2"
   ]
  },
  {
   "cell_type": "code",
   "execution_count": 4,
   "id": "8562d32a",
   "metadata": {},
   "outputs": [],
   "source": [
    " ages=[10,20,35,50,28,40,55,18,16,55,30,25,43,18,30,28,14,24,16,17,32,35,26,27,65,18,43,23,21,20,19,70]"
   ]
  },
  {
   "cell_type": "code",
   "execution_count": 5,
   "id": "d8ec6b99",
   "metadata": {},
   "outputs": [
    {
     "data": {
      "text/plain": [
       "32"
      ]
     },
     "execution_count": 5,
     "metadata": {},
     "output_type": "execute_result"
    }
   ],
   "source": [
    " len(ages)"
   ]
  },
  {
   "cell_type": "code",
   "execution_count": 6,
   "id": "ffdbdf90",
   "metadata": {},
   "outputs": [
    {
     "data": {
      "text/plain": [
       "list"
      ]
     },
     "execution_count": 6,
     "metadata": {},
     "output_type": "execute_result"
    }
   ],
   "source": [
    "type(ages)"
   ]
  },
  {
   "cell_type": "code",
   "execution_count": 7,
   "id": "1f690630",
   "metadata": {},
   "outputs": [
    {
     "name": "stdout",
     "output_type": "stream",
     "text": [
      "30.34375\n"
     ]
    }
   ],
   "source": [
    " import numpy as np\n",
    " ages_mean=np.mean(ages)\n",
    " print(ages_mean)"
   ]
  },
  {
   "cell_type": "code",
   "execution_count": 8,
   "id": "826d33b6",
   "metadata": {},
   "outputs": [],
   "source": [
    " ## Lets take sample\n",
    "\n",
    " sample_size=10\n",
    " age_sample=np.random.choice(ages,sample_size)"
   ]
  },
  {
   "cell_type": "code",
   "execution_count": 9,
   "id": "3be09de8",
   "metadata": {},
   "outputs": [
    {
     "data": {
      "text/plain": [
       "array([40, 28, 18, 35, 14, 24, 27, 26, 70, 27])"
      ]
     },
     "execution_count": 9,
     "metadata": {},
     "output_type": "execute_result"
    }
   ],
   "source": [
    "age_sample"
   ]
  },
  {
   "cell_type": "code",
   "execution_count": 10,
   "id": "7be2298c",
   "metadata": {},
   "outputs": [
    {
     "data": {
      "text/plain": [
       "array([40, 28, 18, 35, 14, 24, 27, 26, 70, 27])"
      ]
     },
     "execution_count": 10,
     "metadata": {},
     "output_type": "execute_result"
    }
   ],
   "source": [
    "age_sample"
   ]
  },
  {
   "cell_type": "code",
   "execution_count": 11,
   "id": "7cc7b2ed",
   "metadata": {},
   "outputs": [],
   "source": [
    " from scipy.stats import ttest_1samp"
   ]
  },
  {
   "cell_type": "code",
   "execution_count": 12,
   "id": "ece3ffe3",
   "metadata": {},
   "outputs": [],
   "source": [
    " ttest,p_value=ttest_1samp(age_sample,30)"
   ]
  },
  {
   "cell_type": "code",
   "execution_count": 13,
   "id": "972cef55",
   "metadata": {},
   "outputs": [
    {
     "name": "stdout",
     "output_type": "stream",
     "text": [
      "0.8593023796607452\n"
     ]
    }
   ],
   "source": [
    " print(p_value)"
   ]
  },
  {
   "cell_type": "code",
   "execution_count": 14,
   "id": "f3444149",
   "metadata": {},
   "outputs": [
    {
     "name": "stdout",
     "output_type": "stream",
     "text": [
      "we are accepting null hypothesis\n"
     ]
    }
   ],
   "source": [
    " if p_value < 0.05:    # alpha value is 0.05 or 5%\n",
    "    print(\" we are rejecting null hypothesis\")\n",
    " else:\n",
    "    print(\"we are accepting null hypothesis\")"
   ]
  },
  {
   "cell_type": "code",
   "execution_count": null,
   "id": "ec5e8664",
   "metadata": {},
   "outputs": [],
   "source": []
  },
  {
   "cell_type": "code",
   "execution_count": null,
   "id": "2314ecb6",
   "metadata": {},
   "outputs": [],
   "source": []
  }
 ],
 "metadata": {
  "kernelspec": {
   "display_name": "Python 3 (ipykernel)",
   "language": "python",
   "name": "python3"
  },
  "language_info": {
   "codemirror_mode": {
    "name": "ipython",
    "version": 3
   },
   "file_extension": ".py",
   "mimetype": "text/x-python",
   "name": "python",
   "nbconvert_exporter": "python",
   "pygments_lexer": "ipython3",
   "version": "3.12.4"
  }
 },
 "nbformat": 4,
 "nbformat_minor": 5
}
